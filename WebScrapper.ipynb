{
  "nbformat": 4,
  "nbformat_minor": 0,
  "metadata": {
    "colab": {
      "name": "WebScrapper.ipynb",
      "provenance": [],
      "authorship_tag": "ABX9TyPcXNFSeJ3o/sIdvan9OPfc",
      "include_colab_link": true
    },
    "kernelspec": {
      "name": "python3",
      "display_name": "Python 3"
    },
    "language_info": {
      "name": "python"
    }
  },
  "cells": [
    {
      "cell_type": "markdown",
      "metadata": {
        "id": "view-in-github",
        "colab_type": "text"
      },
      "source": [
        "<a href=\"https://colab.research.google.com/github/ananyaa06/FutureMakers2022/blob/main/WebScrapper.ipynb\" target=\"_parent\"><img src=\"https://colab.research.google.com/assets/colab-badge.svg\" alt=\"Open In Colab\"/></a>"
      ]
    },
    {
      "cell_type": "code",
      "execution_count": 10,
      "metadata": {
        "colab": {
          "base_uri": "https://localhost:8080/"
        },
        "id": "8KNGLxUwUH6A",
        "outputId": "241b4932-1109-45f5-f359-489509512ee1"
      },
      "outputs": [
        {
          "output_type": "stream",
          "name": "stdout",
          "text": [
            "Ready Dough Pizza Inc. Recalls Pepperoni Pizza Products  Produced Without Benefit of Inspection and also Due to Misbranding and Undeclared Allergens\n",
            "Unreported Allergens\n",
            "021-2022\n",
            "High - Class I\n"
          ]
        }
      ],
      "source": [
        "import requests\n",
        "from bs4 import BeautifulSoup\n",
        "\n",
        "url = 'https://www.fsis.usda.gov/recalls-alerts/ready-dough-pizza-inc--recalls-pepperoni-pizza-products-produced-without-benefit'\n",
        "req = requests.get(url)\n",
        "\n",
        "soup = BeautifulSoup(req.text, 'html.parser')\n",
        "\n",
        "for i in soup.find_all('h1', class_='recall-header__title'):\n",
        "  print(i.text)\n",
        "\n",
        "for i in soup.find_all('a', class_='tag tag--reason'):\n",
        "  print(i.text)\n",
        "\n",
        "for i in soup.find_all('span', class_='tag tag--active'):\n",
        "  if \"Active\" not in i:\n",
        "    print(i.text)\n",
        "\n",
        "\n",
        "for i in soup.find_all('a', class_='tag tag--high - class i'):\n",
        "  print(i.text)"
      ]
    },
    {
      "cell_type": "code",
      "source": [
        "url = 'https://www.fsis.usda.gov/recalls'\n",
        "req = requests.get(url)\n",
        "\n",
        "soup = BeautifulSoup(req.text, 'html.parser')\n",
        "\n",
        "link = []\n",
        "\n",
        "for i in soup.find_all('a', href=True):\n",
        "  if 'recalls-alerts' in str(i):\n",
        "    link.append('https://www.fsis.usda.gov/'+ i['href'])\n",
        "\n",
        "link = list(set(link))"
      ],
      "metadata": {
        "id": "Bf0qf7stYfhs"
      },
      "execution_count": 21,
      "outputs": []
    },
    {
      "cell_type": "code",
      "source": [
        "for i in link:\n",
        "  print(i)"
      ],
      "metadata": {
        "colab": {
          "base_uri": "https://localhost:8080/"
        },
        "id": "dyTxLYt2afFW",
        "outputId": "707d5515-32d2-4ea9-8051-d3384fc947ab"
      },
      "execution_count": 23,
      "outputs": [
        {
          "output_type": "stream",
          "name": "stdout",
          "text": [
            "https://www.fsis.usda.gov//recalls-alerts/fsis-issues-public-health-alert-ready-eat-salad-products-containing-peanut-butter\n",
            "https://www.fsis.usda.gov//recalls-alerts/yumei-foods-usa-inc--recalls-ineligible-siluriformes-products-imported-china\n",
            "https://www.fsis.usda.gov//recalls-alerts/northern-tier-bakery-llc-recalls-ready-eat-salad-products-due-possible-listeria\n",
            "https://www.fsis.usda.gov//recalls-alerts/fsis-issues-public-health-alert-rendered-pork-fat-products-produced-without-benefit\n",
            "https://www.fsis.usda.gov//recalls-alerts/smithfield-packaged-meats-corp--recalls-a-ready-eat-bacon-topping-products-due\n",
            "https://www.fsis.usda.gov//recalls-alerts/fsis-issues-public-health-alert-ineligible-siluriformes-products-imported-korea\n",
            "https://www.fsis.usda.gov//recalls-alerts/msi-express-inc--recalls-unilever-food-solutions-u-s--knorr-curry-chicken-and-rice\n",
            "https://www.fsis.usda.gov//recalls-alerts/fsis-issues-public-health-alert-ready-eat-caesar-salad-chicken-due-misbranding-and\n",
            "https://www.fsis.usda.gov//recalls-alerts/creminelli-fine-meats-recalls-mini-parmesan-salami-stick-products-due-misbranding\n",
            "https://www.fsis.usda.gov//recalls-alerts/ready-dough-pizza-inc--recalls-pepperoni-pizza-products-produced-without-benefit\n"
          ]
        }
      ]
    },
    {
      "cell_type": "code",
      "source": [
        "title = []\n",
        "report_id = []\n",
        "recall_reason = []\n",
        "report_links = []\n",
        "\n",
        "for i in link:\n",
        "  req = requests.get(i)\n",
        "  soup = BeautifulSoup(req.text, 'html.parser')\n",
        "\n",
        "  for t in soup.find_all('h1', class_='recall-header__title'):\n",
        "    title.append(t.text)\n",
        "\n",
        "  for ri in soup.find_all('span', class_='tag tag--active'):\n",
        "    if \"Active\" not in ri:\n",
        "      report_id.append(ri.text)\n",
        "\n",
        "  for rr in soup.find('a', class_='tag tag--reason'):\n",
        "    recall_reason.append(rr)\n",
        "  \n",
        "  report_links.append(i)\n",
        "\n",
        "\n"
      ],
      "metadata": {
        "id": "6qwwHVtea56h"
      },
      "execution_count": 29,
      "outputs": []
    },
    {
      "cell_type": "code",
      "source": [
        "import pandas as pd\n",
        "d = {'Report_ID': report_id, 'Report_Title': title, 'Recall_Reason': recall_reason, 'Report-URL': report_links}\n",
        "df = pd.DataFrame(data=d)\n",
        "df.head\n",
        "df.to_excel('fsis.xlsx')"
      ],
      "metadata": {
        "id": "9ExS7iVnaiT8"
      },
      "execution_count": 32,
      "outputs": []
    }
  ]
}